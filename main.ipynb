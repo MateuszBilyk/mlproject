{
  "nbformat": 4,
  "nbformat_minor": 0,
  "metadata": {
    "colab": {
      "name": "Untitled0.ipynb",
      "provenance": []
    },
    "kernelspec": {
      "name": "python3",
      "display_name": "Python 3"
    },
    "language_info": {
      "name": "python"
    }
  },
  "cells": [
    {
      "cell_type": "code",
      "execution_count": 1,
      "metadata": {
        "id": "7gn4siNptU4U"
      },
      "outputs": [],
      "source": [
        "# Please note that this code needs only to be run in a fresh runtime.\n",
        "# However, it can be rerun afterwards too.\n",
        "!pip install -q gdown httpimport"
      ]
    },
    {
      "cell_type": "code",
      "source": [
        "# Standard IPython notebook imports\n",
        "import itertools\n",
        "import io\n",
        "import os\n",
        "\n",
        "import matplotlib.pyplot as plt\n",
        "import numpy as np\n",
        "import pandas as pd\n",
        "import scipy.optimize as sopt\n",
        "import scipy.stats as sstats\n",
        "import seaborn as sns\n",
        "import sklearn.ensemble\n",
        "import sklearn.tree\n",
        "from sklearn import datasets\n",
        "from tqdm.auto import tqdm\n",
        "\n",
        "import httpimport\n",
        "\n",
        "# In this way we can import functions straight from github\n",
        "with httpimport.github_repo(\n",
        "    \"janchorowski\", \"nn_assignments\", module=\"common\", branch=\"nn18\"\n",
        "):\n",
        "    from common.gradients import check_gradient\n",
        "    from common.plotting import plot_mat\n",
        "\n",
        "sns.set_style(\"whitegrid\")"
      ],
      "metadata": {
        "id": "JxjtXjFFtYYs"
      },
      "execution_count": 2,
      "outputs": []
    },
    {
      "cell_type": "code",
      "source": [
        "from google.colab import drive\n",
        "drive.mount('/content/drive')"
      ],
      "metadata": {
        "colab": {
          "base_uri": "https://localhost:8080/"
        },
        "id": "L0JwUeu8vANV",
        "outputId": "9c765e6a-771b-4fdf-8e0f-204707e21d6f"
      },
      "execution_count": 3,
      "outputs": [
        {
          "output_type": "stream",
          "name": "stdout",
          "text": [
            "Drive already mounted at /content/drive; to attempt to forcibly remount, call drive.mount(\"/content/drive\", force_remount=True).\n"
          ]
        }
      ]
    },
    {
      "cell_type": "code",
      "source": [
        "train_df = pd.read_csv(\"/content/drive/MyDrive/petfinder-pawpularity-score/train.csv\")\n",
        "train_df[\"C\"] = np.ones(9912)\n",
        "test_df = pd.read_csv(\"/content/drive/MyDrive/petfinder-pawpularity-score/test.csv\")\n",
        "test_df[\"Pawpularity\"] = pd.read_csv(\"/content/drive/MyDrive/petfinder-pawpularity-score/sample_submission.csv\")[\"Pawpularity\"]\n",
        "test_df[\"C\"] = np.ones(8)\n",
        "test_df"
      ],
      "metadata": {
        "id": "WB55ZHgpyr6V",
        "colab": {
          "base_uri": "https://localhost:8080/",
          "height": 382
        },
        "outputId": "45f74b60-f7ae-4d76-f9d7-7ac5f5883c38"
      },
      "execution_count": 14,
      "outputs": [
        {
          "output_type": "execute_result",
          "data": {
            "text/html": [
              "\n",
              "  <div id=\"df-6d269d40-29d1-44d5-8dc3-e4e6f1247c05\">\n",
              "    <div class=\"colab-df-container\">\n",
              "      <div>\n",
              "<style scoped>\n",
              "    .dataframe tbody tr th:only-of-type {\n",
              "        vertical-align: middle;\n",
              "    }\n",
              "\n",
              "    .dataframe tbody tr th {\n",
              "        vertical-align: top;\n",
              "    }\n",
              "\n",
              "    .dataframe thead th {\n",
              "        text-align: right;\n",
              "    }\n",
              "</style>\n",
              "<table border=\"1\" class=\"dataframe\">\n",
              "  <thead>\n",
              "    <tr style=\"text-align: right;\">\n",
              "      <th></th>\n",
              "      <th>Id</th>\n",
              "      <th>Subject Focus</th>\n",
              "      <th>Eyes</th>\n",
              "      <th>Face</th>\n",
              "      <th>Near</th>\n",
              "      <th>Action</th>\n",
              "      <th>Accessory</th>\n",
              "      <th>Group</th>\n",
              "      <th>Collage</th>\n",
              "      <th>Human</th>\n",
              "      <th>Occlusion</th>\n",
              "      <th>Info</th>\n",
              "      <th>Blur</th>\n",
              "      <th>Pawpularity</th>\n",
              "      <th>C</th>\n",
              "    </tr>\n",
              "  </thead>\n",
              "  <tbody>\n",
              "    <tr>\n",
              "      <th>0</th>\n",
              "      <td>4128bae22183829d2b5fea10effdb0c3</td>\n",
              "      <td>1</td>\n",
              "      <td>0</td>\n",
              "      <td>1</td>\n",
              "      <td>0</td>\n",
              "      <td>0</td>\n",
              "      <td>1</td>\n",
              "      <td>1</td>\n",
              "      <td>0</td>\n",
              "      <td>0</td>\n",
              "      <td>1</td>\n",
              "      <td>0</td>\n",
              "      <td>1</td>\n",
              "      <td>67.75</td>\n",
              "      <td>1.0</td>\n",
              "    </tr>\n",
              "    <tr>\n",
              "      <th>1</th>\n",
              "      <td>43a2262d7738e3d420d453815151079e</td>\n",
              "      <td>0</td>\n",
              "      <td>1</td>\n",
              "      <td>0</td>\n",
              "      <td>0</td>\n",
              "      <td>0</td>\n",
              "      <td>0</td>\n",
              "      <td>1</td>\n",
              "      <td>1</td>\n",
              "      <td>0</td>\n",
              "      <td>0</td>\n",
              "      <td>0</td>\n",
              "      <td>0</td>\n",
              "      <td>59.15</td>\n",
              "      <td>1.0</td>\n",
              "    </tr>\n",
              "    <tr>\n",
              "      <th>2</th>\n",
              "      <td>4e429cead1848a298432a0acad014c9d</td>\n",
              "      <td>0</td>\n",
              "      <td>0</td>\n",
              "      <td>0</td>\n",
              "      <td>1</td>\n",
              "      <td>0</td>\n",
              "      <td>1</td>\n",
              "      <td>1</td>\n",
              "      <td>1</td>\n",
              "      <td>0</td>\n",
              "      <td>1</td>\n",
              "      <td>1</td>\n",
              "      <td>1</td>\n",
              "      <td>20.02</td>\n",
              "      <td>1.0</td>\n",
              "    </tr>\n",
              "    <tr>\n",
              "      <th>3</th>\n",
              "      <td>80bc3ccafcc51b66303c2c263aa38486</td>\n",
              "      <td>1</td>\n",
              "      <td>0</td>\n",
              "      <td>1</td>\n",
              "      <td>0</td>\n",
              "      <td>0</td>\n",
              "      <td>0</td>\n",
              "      <td>0</td>\n",
              "      <td>0</td>\n",
              "      <td>0</td>\n",
              "      <td>0</td>\n",
              "      <td>1</td>\n",
              "      <td>0</td>\n",
              "      <td>94.53</td>\n",
              "      <td>1.0</td>\n",
              "    </tr>\n",
              "    <tr>\n",
              "      <th>4</th>\n",
              "      <td>8f49844c382931444e68dffbe20228f4</td>\n",
              "      <td>1</td>\n",
              "      <td>1</td>\n",
              "      <td>1</td>\n",
              "      <td>0</td>\n",
              "      <td>1</td>\n",
              "      <td>1</td>\n",
              "      <td>0</td>\n",
              "      <td>1</td>\n",
              "      <td>0</td>\n",
              "      <td>1</td>\n",
              "      <td>1</td>\n",
              "      <td>0</td>\n",
              "      <td>89.82</td>\n",
              "      <td>1.0</td>\n",
              "    </tr>\n",
              "    <tr>\n",
              "      <th>5</th>\n",
              "      <td>b03f7041962238a7c9d6537e22f9b017</td>\n",
              "      <td>0</td>\n",
              "      <td>0</td>\n",
              "      <td>1</td>\n",
              "      <td>1</td>\n",
              "      <td>1</td>\n",
              "      <td>1</td>\n",
              "      <td>1</td>\n",
              "      <td>1</td>\n",
              "      <td>1</td>\n",
              "      <td>0</td>\n",
              "      <td>1</td>\n",
              "      <td>0</td>\n",
              "      <td>65.50</td>\n",
              "      <td>1.0</td>\n",
              "    </tr>\n",
              "    <tr>\n",
              "      <th>6</th>\n",
              "      <td>c978013571258ed6d4637f6e8cc9d6a3</td>\n",
              "      <td>1</td>\n",
              "      <td>0</td>\n",
              "      <td>0</td>\n",
              "      <td>0</td>\n",
              "      <td>1</td>\n",
              "      <td>1</td>\n",
              "      <td>0</td>\n",
              "      <td>1</td>\n",
              "      <td>0</td>\n",
              "      <td>1</td>\n",
              "      <td>1</td>\n",
              "      <td>1</td>\n",
              "      <td>71.42</td>\n",
              "      <td>1.0</td>\n",
              "    </tr>\n",
              "    <tr>\n",
              "      <th>7</th>\n",
              "      <td>e0de453c1bffc20c22b072b34b54e50f</td>\n",
              "      <td>1</td>\n",
              "      <td>0</td>\n",
              "      <td>1</td>\n",
              "      <td>0</td>\n",
              "      <td>0</td>\n",
              "      <td>0</td>\n",
              "      <td>0</td>\n",
              "      <td>0</td>\n",
              "      <td>1</td>\n",
              "      <td>0</td>\n",
              "      <td>0</td>\n",
              "      <td>1</td>\n",
              "      <td>5.85</td>\n",
              "      <td>1.0</td>\n",
              "    </tr>\n",
              "  </tbody>\n",
              "</table>\n",
              "</div>\n",
              "      <button class=\"colab-df-convert\" onclick=\"convertToInteractive('df-6d269d40-29d1-44d5-8dc3-e4e6f1247c05')\"\n",
              "              title=\"Convert this dataframe to an interactive table.\"\n",
              "              style=\"display:none;\">\n",
              "        \n",
              "  <svg xmlns=\"http://www.w3.org/2000/svg\" height=\"24px\"viewBox=\"0 0 24 24\"\n",
              "       width=\"24px\">\n",
              "    <path d=\"M0 0h24v24H0V0z\" fill=\"none\"/>\n",
              "    <path d=\"M18.56 5.44l.94 2.06.94-2.06 2.06-.94-2.06-.94-.94-2.06-.94 2.06-2.06.94zm-11 1L8.5 8.5l.94-2.06 2.06-.94-2.06-.94L8.5 2.5l-.94 2.06-2.06.94zm10 10l.94 2.06.94-2.06 2.06-.94-2.06-.94-.94-2.06-.94 2.06-2.06.94z\"/><path d=\"M17.41 7.96l-1.37-1.37c-.4-.4-.92-.59-1.43-.59-.52 0-1.04.2-1.43.59L10.3 9.45l-7.72 7.72c-.78.78-.78 2.05 0 2.83L4 21.41c.39.39.9.59 1.41.59.51 0 1.02-.2 1.41-.59l7.78-7.78 2.81-2.81c.8-.78.8-2.07 0-2.86zM5.41 20L4 18.59l7.72-7.72 1.47 1.35L5.41 20z\"/>\n",
              "  </svg>\n",
              "      </button>\n",
              "      \n",
              "  <style>\n",
              "    .colab-df-container {\n",
              "      display:flex;\n",
              "      flex-wrap:wrap;\n",
              "      gap: 12px;\n",
              "    }\n",
              "\n",
              "    .colab-df-convert {\n",
              "      background-color: #E8F0FE;\n",
              "      border: none;\n",
              "      border-radius: 50%;\n",
              "      cursor: pointer;\n",
              "      display: none;\n",
              "      fill: #1967D2;\n",
              "      height: 32px;\n",
              "      padding: 0 0 0 0;\n",
              "      width: 32px;\n",
              "    }\n",
              "\n",
              "    .colab-df-convert:hover {\n",
              "      background-color: #E2EBFA;\n",
              "      box-shadow: 0px 1px 2px rgba(60, 64, 67, 0.3), 0px 1px 3px 1px rgba(60, 64, 67, 0.15);\n",
              "      fill: #174EA6;\n",
              "    }\n",
              "\n",
              "    [theme=dark] .colab-df-convert {\n",
              "      background-color: #3B4455;\n",
              "      fill: #D2E3FC;\n",
              "    }\n",
              "\n",
              "    [theme=dark] .colab-df-convert:hover {\n",
              "      background-color: #434B5C;\n",
              "      box-shadow: 0px 1px 3px 1px rgba(0, 0, 0, 0.15);\n",
              "      filter: drop-shadow(0px 1px 2px rgba(0, 0, 0, 0.3));\n",
              "      fill: #FFFFFF;\n",
              "    }\n",
              "  </style>\n",
              "\n",
              "      <script>\n",
              "        const buttonEl =\n",
              "          document.querySelector('#df-6d269d40-29d1-44d5-8dc3-e4e6f1247c05 button.colab-df-convert');\n",
              "        buttonEl.style.display =\n",
              "          google.colab.kernel.accessAllowed ? 'block' : 'none';\n",
              "\n",
              "        async function convertToInteractive(key) {\n",
              "          const element = document.querySelector('#df-6d269d40-29d1-44d5-8dc3-e4e6f1247c05');\n",
              "          const dataTable =\n",
              "            await google.colab.kernel.invokeFunction('convertToInteractive',\n",
              "                                                     [key], {});\n",
              "          if (!dataTable) return;\n",
              "\n",
              "          const docLinkHtml = 'Like what you see? Visit the ' +\n",
              "            '<a target=\"_blank\" href=https://colab.research.google.com/notebooks/data_table.ipynb>data table notebook</a>'\n",
              "            + ' to learn more about interactive tables.';\n",
              "          element.innerHTML = '';\n",
              "          dataTable['output_type'] = 'display_data';\n",
              "          await google.colab.output.renderOutput(dataTable, element);\n",
              "          const docLink = document.createElement('div');\n",
              "          docLink.innerHTML = docLinkHtml;\n",
              "          element.appendChild(docLink);\n",
              "        }\n",
              "      </script>\n",
              "    </div>\n",
              "  </div>\n",
              "  "
            ],
            "text/plain": [
              "                                 Id  Subject Focus  ...  Pawpularity    C\n",
              "0  4128bae22183829d2b5fea10effdb0c3              1  ...        67.75  1.0\n",
              "1  43a2262d7738e3d420d453815151079e              0  ...        59.15  1.0\n",
              "2  4e429cead1848a298432a0acad014c9d              0  ...        20.02  1.0\n",
              "3  80bc3ccafcc51b66303c2c263aa38486              1  ...        94.53  1.0\n",
              "4  8f49844c382931444e68dffbe20228f4              1  ...        89.82  1.0\n",
              "5  b03f7041962238a7c9d6537e22f9b017              0  ...        65.50  1.0\n",
              "6  c978013571258ed6d4637f6e8cc9d6a3              1  ...        71.42  1.0\n",
              "7  e0de453c1bffc20c22b072b34b54e50f              1  ...         5.85  1.0\n",
              "\n",
              "[8 rows x 15 columns]"
            ]
          },
          "metadata": {},
          "execution_count": 14
        }
      ]
    },
    {
      "cell_type": "code",
      "source": [
        "def MSE(preds, test_Y):\n",
        "    return(np.sqrt(np.mean((preds - test_Y)**2)))  #funkcja licząca wielkość błędu"
      ],
      "metadata": {
        "id": "nNEix6tQvb9k"
      },
      "execution_count": 5,
      "outputs": []
    },
    {
      "cell_type": "markdown",
      "source": [
        "KNN:"
      ],
      "metadata": {
        "id": "6n5zS0plrvJU"
      }
    },
    {
      "cell_type": "code",
      "source": [
        "def KNN(train_X, train_Y, test_X, ks, verbose=False):\n",
        "    \"\"\"\n",
        "    Compute predictions for various k\n",
        "    Args:\n",
        "        train_X: array of shape Ntrain x D\n",
        "        train_Y: array of shape Ntrain\n",
        "        test_X: array of shape Ntest x D\n",
        "        ks: list of integers\n",
        "    Returns:\n",
        "        preds: dict k: predictions for k\n",
        "    \"\"\"\n",
        "    # Cats data to float32\n",
        "    train_X = train_X.astype(np.float32)\n",
        "    test_X = test_X.astype(np.float32)\n",
        "\n",
        "    # Alloc space for results\n",
        "    preds = {}\n",
        "\n",
        "    if verbose:\n",
        "        print(\"Computing distances... \", end='')\n",
        "    #\n",
        "    # TODO: fill in an efficient distance matrix computation\n",
        "    #    \n",
        "    #dists = np.linalg.norm((train_X[:, None] - test_X), axis = -1)\n",
        "    dists = np.sqrt((train_X**2).sum(1)[:,None] + (test_X**2).sum(1) - 2*train_X.dot(test_X.T))\n",
        "\n",
        "    if verbose:\n",
        "        print(\"Sorting... \", end='')\n",
        "    \n",
        "    # TODO: findes closest trainig points\n",
        "    # Hint: use argsort\n",
        "    closest = np.argsort(dists, axis = 0)\n",
        "\n",
        "    if verbose:\n",
        "        print(\"Computing predictions...\", end='')\n",
        "    \n",
        "    targets = train_Y[closest]\n",
        "\n",
        "    for k in ks:\n",
        "        predictions = sstats.mode(targets[:k])\n",
        "        predictions = predictions[0].ravel()\n",
        "        preds[k] = predictions\n",
        "    if verbose:\n",
        "        print(\"Done\")\n",
        "    return preds"
      ],
      "metadata": {
        "id": "fh7V--W0rByd"
      },
      "execution_count": 6,
      "outputs": []
    },
    {
      "cell_type": "code",
      "source": [
        "train_x = np.array(train_df[['Subject Focus', 'Eyes', \"Face\",\t\"Near\",\t\"Action\", \"Accessory\", \"Group\", \"Collage\", \"Human\", \"Occlusion\", \"Info\", \"Blur\", \"C\"]])\n",
        "train_y = np.array(train_df[\"Pawpularity\"])\n",
        "\n",
        "test_x = np.array(test_df[['Subject Focus', 'Eyes', \"Face\",\t\"Near\",\t\"Action\", \"Accessory\", \"Group\", \"Collage\", \"Human\", \"Occlusion\", \"Info\", \"Blur\", \"C\"]])\n",
        "test_y = np.array(test_df[\"Pawpularity\"])\n",
        "\n",
        "preds_KNN = KNN(train_x, train_y, test_x, [1, 3, 5, 7, 9, 11, 13, 15, 17, 19])\n",
        "\n",
        "print(MSE(preds_KNN[1], test_y))\n",
        "print(MSE(preds_KNN[3], test_y))\n",
        "print(MSE(preds_KNN[5], test_y))\n",
        "print(MSE(preds_KNN[7], test_y))\n",
        "print(MSE(preds_KNN[9], test_y))\n",
        "print(MSE(preds_KNN[11], test_y))\n",
        "print(MSE(preds_KNN[13], test_y))\n",
        "print(MSE(preds_KNN[15], test_y))\n",
        "print(MSE(preds_KNN[17], test_y))\n",
        "print(MSE(preds_KNN[19], test_y))\n",
        "\n",
        "M = np.mean(train_y)\n",
        "\n",
        "print(MSE(M, test_y)) #testujemy jaki byłby błąd gdybyśmy olali features i po prostu używali średniej wartości pawpularity"
      ],
      "metadata": {
        "colab": {
          "base_uri": "https://localhost:8080/"
        },
        "id": "suEE2Jcwr-zO",
        "outputId": "0f460b89-79df-4c8e-cfb2-2ac15a5220b4"
      },
      "execution_count": 44,
      "outputs": [
        {
          "output_type": "stream",
          "name": "stdout",
          "text": [
            "33.940402914520625\n",
            "45.01586886865564\n",
            "45.19832353085676\n",
            "49.19055752885914\n",
            "48.832094466651746\n",
            "49.911656454179116\n",
            "59.36169598318431\n",
            "45.772081556337376\n",
            "45.772081556337376\n",
            "45.98894921608886\n",
            "36.10768937034517\n"
          ]
        }
      ]
    },
    {
      "cell_type": "markdown",
      "source": [
        "KNN cosine similarity:"
      ],
      "metadata": {
        "id": "Cww3hnRzCD9j"
      }
    },
    {
      "cell_type": "code",
      "source": [
        "def KNN_cos(train_X, train_Y, test_X, ks, verbose=False):\n",
        "    \"\"\"\n",
        "    Compute predictions for various k\n",
        "    Args:\n",
        "        train_X: array of shape Ntrain x D\n",
        "        train_Y: array of shape Ntrain\n",
        "        test_X: array of shape Ntest x D\n",
        "        ks: list of integers\n",
        "    Returns:\n",
        "        preds: dict k: predictions for k\n",
        "    \"\"\"\n",
        "    # Cats data to float32\n",
        "    train_X = train_X.astype(np.float32)\n",
        "    test_X = test_X.astype(np.float32)\n",
        "\n",
        "    # Alloc space for results\n",
        "    preds = {}\n",
        "\n",
        "    if verbose:\n",
        "        print(\"Computing distances... \", end='')\n",
        "    \n",
        "    A_mA = train_X - train_X.mean(1)[:, None]\n",
        "    B_mB = test_X - test_X.mean(1)[:, None]\n",
        "    ssA = (A_mA**2).sum(1)\n",
        "    ssB = (B_mB**2).sum(1)\n",
        "    sims = np.dot(A_mA, B_mB.T) / np.sqrt(np.dot(ssA[:, None],ssB[None]))\n",
        "\n",
        "    if verbose:\n",
        "        print(\"Sorting... \", end='')\n",
        "    \n",
        "    # TODO: findes closest trainig points\n",
        "    # Hint: use argsort\n",
        "    closest = np.argsort(-sims, axis = 0)\n",
        "\n",
        "    if verbose:\n",
        "        print(\"Computing predictions...\", end='')\n",
        "    \n",
        "    targets = train_Y[closest]\n",
        "\n",
        "    for k in ks:\n",
        "        predictions = sstats.mode(targets[:k])\n",
        "        predictions = predictions[0].ravel()\n",
        "        preds[k] = predictions\n",
        "    if verbose:\n",
        "        print(\"Done\")\n",
        "    return preds"
      ],
      "metadata": {
        "id": "1IjgDH1xw5Bj"
      },
      "execution_count": 10,
      "outputs": []
    },
    {
      "cell_type": "code",
      "source": [
        "preds_KNN = KNN_cos(train_x, train_y, test_x,[1, 3, 5, 7, 9, 11, 13, 15, 17, 19])\n",
        "print(MSE(preds_KNN[1], test_y))\n",
        "print(MSE(preds_KNN[3], test_y))\n",
        "print(MSE(preds_KNN[5], test_y))\n",
        "print(MSE(preds_KNN[7], test_y))\n",
        "print(MSE(preds_KNN[9], test_y))\n",
        "print(MSE(preds_KNN[11], test_y))\n",
        "print(MSE(preds_KNN[13], test_y))\n",
        "print(MSE(preds_KNN[15], test_y))\n",
        "print(MSE(preds_KNN[17], test_y))\n",
        "print(MSE(preds_KNN[19], test_y))"
      ],
      "metadata": {
        "colab": {
          "base_uri": "https://localhost:8080/"
        },
        "id": "sAR-bsAyCZqU",
        "outputId": "7f0236a3-0c33-4d1f-dea2-280ec698055e"
      },
      "execution_count": 16,
      "outputs": [
        {
          "output_type": "stream",
          "name": "stdout",
          "text": [
            "39.50194235730694\n",
            "48.618679023601615\n",
            "49.36244473281282\n",
            "55.40506249432447\n",
            "55.255279838219984\n",
            "55.255279838219984\n",
            "47.994228298827764\n",
            "46.958635521062575\n",
            "45.997591784788035\n",
            "45.997591784788035\n"
          ]
        }
      ]
    },
    {
      "cell_type": "markdown",
      "source": [
        "logistic regression"
      ],
      "metadata": {
        "id": "UmU6gzu4MC3W"
      }
    },
    {
      "cell_type": "code",
      "source": [
        "def logreg_loss(Theta, X, Y):\n",
        "\n",
        "    ThetaR = Theta.reshape(X.shape[1], 1)\n",
        "\n",
        "    a = X @ ThetaR\n",
        "    sigma = 1 / (1 + np.exp(-a))\n",
        "\n",
        "    nll = -sum(Y * np.log(sigma) + (1 - Y) * np.log(1 - sigma))\n",
        "    grad = X.T @ (sigma - Y)\n",
        "\n",
        "    return nll, grad.reshape(Theta.shape)\n",
        "\n",
        "train_y_logreg = np.zeros(train_y.shape)\n",
        "train_y_logreg[train_y > 33] = 1   #klasyfikujemy jako 1 jeśli pawpularity jest duże, i jako 0 jeśli jest małe\n",
        "train_y_logreg = train_y_logreg.reshape(-1,1)\n",
        "\n",
        "Theta0 = np.ones((13,))\n",
        "ThetaOpt = sopt.fmin_l_bfgs_b(\n",
        "    lambda Theta: logreg_loss(Theta, train_x, train_y_logreg), np.array(Theta0)\n",
        ")[0]\n",
        "ThetaOpt\n"
      ],
      "metadata": {
        "colab": {
          "base_uri": "https://localhost:8080/"
        },
        "id": "FBgtTWh3MBvu",
        "outputId": "0a0cd844-7433-4ec9-a9d0-10b981bcfcc9"
      },
      "execution_count": 85,
      "outputs": [
        {
          "output_type": "execute_result",
          "data": {
            "text/plain": [
              "array([-0.06875703, -0.19080116,  0.28091435,  0.03097823, -0.05782879,\n",
              "        0.06751073,  0.2590542 , -0.05887729,  0.00855425,  0.145315  ,\n",
              "        0.03942742, -0.2626748 , -0.20935007])"
            ]
          },
          "metadata": {},
          "execution_count": 85
        }
      ]
    },
    {
      "cell_type": "code",
      "source": [
        "h = test_x @ ThetaOpt #jeśli wynik większy bądź równy 0 to klasyfikujemy jako 1\n",
        "h"
      ],
      "metadata": {
        "colab": {
          "base_uri": "https://localhost:8080/"
        },
        "id": "9NP_a_UcVNnu",
        "outputId": "b858c628-9f1f-45a8-c544-3355b886bc70"
      },
      "execution_count": 86,
      "outputs": [
        {
          "output_type": "execute_result",
          "data": {
            "text/plain": [
              "array([ 0.21201238, -0.19997433,  0.01138342,  0.04223467, -0.05244684,\n",
              "        0.36038303, -0.40523483, -0.2513133 ])"
            ]
          },
          "metadata": {},
          "execution_count": 86
        }
      ]
    },
    {
      "cell_type": "code",
      "source": [
        "preds_logreg = np.full(test_y.shape, 20)\n",
        "preds_logreg[h >= 0] = 40  #z tymi wartościami (20, 40) można pokombinować\n",
        "preds_logreg"
      ],
      "metadata": {
        "colab": {
          "base_uri": "https://localhost:8080/"
        },
        "id": "2IZkKt69VluO",
        "outputId": "a6591a58-7a1a-4240-a31e-1002600f1277"
      },
      "execution_count": 88,
      "outputs": [
        {
          "output_type": "execute_result",
          "data": {
            "text/plain": [
              "array([40, 20, 40, 40, 20, 40, 20, 20])"
            ]
          },
          "metadata": {},
          "execution_count": 88
        }
      ]
    },
    {
      "cell_type": "code",
      "source": [
        "print(MSE(preds_logreg, test_y))"
      ],
      "metadata": {
        "colab": {
          "base_uri": "https://localhost:8080/"
        },
        "id": "BDgm-4wFZUWe",
        "outputId": "f10f4629-5706-4abd-d649-cdc97ac2230b"
      },
      "execution_count": 89,
      "outputs": [
        {
          "output_type": "stream",
          "name": "stdout",
          "text": [
            "41.89992183763593\n"
          ]
        }
      ]
    },
    {
      "cell_type": "markdown",
      "source": [
        "General Robust loss function"
      ],
      "metadata": {
        "id": "BrF9FYQidkmr"
      }
    },
    {
      "cell_type": "code",
      "source": [
        "def rho(x, alpha, c): #the general robust loss function\n",
        "    if alpha == 0 or alpha == 2:\n",
        "        alpha = alpha + 0.000000001\n",
        "    return(np.abs(alpha-2) / alpha * (((x/c)**2 / np.abs(alpha-2) + 1)**(alpha/2) - 1))\n",
        "\n",
        "def d_rho(x, alpha, c): #and its derivative\n",
        "    if alpha == 0 or alpha == 2:\n",
        "        alpha = alpha + 0.000000001\n",
        "    return(x / c**2 * ((x/c)**2 / np.abs(alpha-2) + 1)**(alpha/2 - 1))"
      ],
      "metadata": {
        "id": "a9SwRycsZ_u4"
      },
      "execution_count": 90,
      "outputs": []
    },
    {
      "cell_type": "code",
      "source": [
        "def linreg_general_loss(Theta, X, Y, alpha, c):\n",
        "    ThetaR = np.array(Theta)\n",
        "    err = (Y - X @ ThetaR)\n",
        "    loss = np.mean(rho(err, alpha, c))\n",
        "\n",
        "    grad_err = d_rho(err, alpha, c)\n",
        "    grad = np.array([np.mean(-grad_err * X[:, i]) for i in range(Theta.shape[0])])\n",
        "    return loss, grad.reshape(Theta.shape)"
      ],
      "metadata": {
        "id": "gcj9Aly0dl6K"
      },
      "execution_count": 98,
      "outputs": []
    },
    {
      "cell_type": "code",
      "source": [
        "train_y"
      ],
      "metadata": {
        "colab": {
          "base_uri": "https://localhost:8080/"
        },
        "id": "FGWGzc0PetDl",
        "outputId": "7de0bc71-6d92-4e8f-b774-58f459234ba5"
      },
      "execution_count": 96,
      "outputs": [
        {
          "output_type": "execute_result",
          "data": {
            "text/plain": [
              "array([63, 42, 28, ..., 20, 20, 30])"
            ]
          },
          "metadata": {},
          "execution_count": 96
        }
      ]
    },
    {
      "cell_type": "code",
      "source": [
        "Theta0 = np.ones((13,))\n",
        "\n",
        "\n",
        "\n",
        "for alpha in [-3, -2,-1, 0, 1, 2, 3, 4]:\n",
        "    for c in [1.]:\n",
        "        ThetaOpt, _, dic = sopt.fmin_l_bfgs_b(\n",
        "            lambda Theta: linreg_general_loss(Theta, train_x, train_y, alpha=alpha, c=c), np.array(Theta0)\n",
        "        )\n",
        "        pred = test_x @ ThetaOpt\n",
        "        print(MSE(pred, test_y))\n"
      ],
      "metadata": {
        "colab": {
          "base_uri": "https://localhost:8080/"
        },
        "id": "WxDb5tknd7bK",
        "outputId": "79c27580-b163-4eed-9b27-3ed2ce863b88"
      },
      "execution_count": 101,
      "outputs": [
        {
          "output_type": "stream",
          "name": "stdout",
          "text": [
            "62.74256400711534\n",
            "40.95203363923424\n",
            "39.86751045563913\n",
            "40.61718324999028\n",
            "38.31332798394285\n",
            "36.38205652401728\n",
            "34.503142357944526\n",
            "33.086588687390154\n"
          ]
        }
      ]
    }
  ]
}